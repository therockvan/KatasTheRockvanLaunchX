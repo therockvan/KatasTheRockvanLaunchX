{
 "cells": [
  {
   "cell_type": "code",
   "execution_count": 4,
   "metadata": {},
   "outputs": [
    {
     "name": "stdout",
     "output_type": "stream",
     "text": [
      "Today's date is:<built-in method today of type object at 0x00007FF870790BA0>\n"
     ]
    }
   ],
   "source": [
    "from datetime import date\n",
    "date.today ()\n",
    "print(\"Today's date is:\" + str(date.today))"
   ]
  },
  {
   "cell_type": "code",
   "execution_count": 6,
   "metadata": {},
   "outputs": [
    {
     "name": "stdout",
     "output_type": "stream",
     "text": [
      "11parsec, is35.877159999999996lightyears\n"
     ]
    }
   ],
   "source": [
    "parsec = 11\n",
    "lightyears = 3.26156 * parsec\n",
    "print(str(parsec) + \"parsec, is\" + str(lightyears) + \"lightyears\")"
   ]
  }
 ],
 "metadata": {
  "interpreter": {
   "hash": "8e8ba638f9b1d83f5a936e0f27e0014e23ae92437d97ae9735b16852ae3c810a"
  },
  "kernelspec": {
   "display_name": "Python 3.10.2 64-bit",
   "language": "python",
   "name": "python3"
  },
  "language_info": {
   "codemirror_mode": {
    "name": "ipython",
    "version": 3
   },
   "file_extension": ".py",
   "mimetype": "text/x-python",
   "name": "python",
   "nbconvert_exporter": "python",
   "pygments_lexer": "ipython3",
   "version": "3.10.2"
  },
  "orig_nbformat": 4
 },
 "nbformat": 4,
 "nbformat_minor": 2
}
