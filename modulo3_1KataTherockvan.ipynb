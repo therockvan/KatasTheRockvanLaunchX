{
 "cells": [
  {
   "cell_type": "code",
   "execution_count": 11,
   "metadata": {},
   "outputs": [
    {
     "name": "stdout",
     "output_type": "stream",
     "text": [
      "Alerta cometa acercandose a una velocidad peligrosa\n"
     ]
    }
   ],
   "source": [
    "cometa = 49\n",
    "if cometa > 25:\n",
    "    print(\"Alerta cometa acercandose a una velocidad peligrosa\")\n",
    "else:\n",
    "    print(\"Sigua su día normal gracias\")"
   ]
  },
  {
   "cell_type": "code",
   "execution_count": 10,
   "metadata": {},
   "outputs": [
    {
     "name": "stdout",
     "output_type": "stream",
     "text": [
      "Sigua su día normal gracias\n"
     ]
    }
   ],
   "source": [
    "cometa = 25\n",
    "if cometa > 49:\n",
    "    print(\"Alerta cometa acercandose a una velocidad peligrosa\")\n",
    "else:\n",
    "    print(\"Sigua su día normal gracias\")"
   ]
  },
  {
   "cell_type": "code",
   "execution_count": 12,
   "metadata": {},
   "outputs": [
    {
     "name": "stdout",
     "output_type": "stream",
     "text": [
      "No hay nada en el cielo\n"
     ]
    }
   ],
   "source": [
    "cometa = 19\n",
    "if cometa > 20:\n",
    "    print(\"Mire Arriba una bola de luz se acerca\")\n",
    "elif cometa == 20:\n",
    "    print(\"Mire Arriba una bola de luz se acerca\")\n",
    "else:\n",
    "    print(\"No hay nada en el cielo\")"
   ]
  },
  {
   "cell_type": "code",
   "execution_count": 13,
   "metadata": {},
   "outputs": [
    {
     "name": "stdout",
     "output_type": "stream",
     "text": [
      "Mire Arriba una bola de luz se acerca\n"
     ]
    }
   ],
   "source": [
    "cometa = 20\n",
    "if cometa > 15:\n",
    "    print(\"Mire Arriba una bola de luz se acerca\")\n",
    "elif cometa == 25:\n",
    "    print(\"Mire Arriba una bola de luz se acerca\")\n",
    "else:\n",
    "    print(\"No hay nada en el cielo\")"
   ]
  },
  {
   "cell_type": "code",
   "execution_count": 14,
   "metadata": {},
   "outputs": [
    {
     "name": "stdout",
     "output_type": "stream",
     "text": [
      "No hay nada en el cielo\n"
     ]
    }
   ],
   "source": [
    "cometa = 20\n",
    "if cometa > 35:\n",
    "    print(\"Mire Arriba una bola de luz se acerca\")\n",
    "elif cometa == 25:\n",
    "    print(\"Mire Arriba una bola de luz se acerca\")\n",
    "else:\n",
    "    print(\"No hay nada en el cielo\")"
   ]
  },
  {
   "cell_type": "code",
   "execution_count": 15,
   "metadata": {},
   "outputs": [
    {
     "name": "stdout",
     "output_type": "stream",
     "text": [
      "Mire Arriba una bola de luz se acerca\n"
     ]
    }
   ],
   "source": [
    "velocidad_del_cometa = 25\n",
    "tamano_del_cometa = 40\n",
    "if velocidad_del_cometa > 25 and tamano_del_cometa > 25:\n",
    "    print(\"Alerta Un cometa colisionara en la Tierra\")\n",
    "elif velocidad_del_cometa >= 20:\n",
    "    print(\"Mire Arriba una bola de luz se acerca\")\n",
    "elif tamano_del_cometa < 25:\n",
    "    print(\"No hay nada en el cielo\")\n",
    "else:\n",
    "    print(\"No hay nada en el cielo\")"
   ]
  },
  {
   "cell_type": "code",
   "execution_count": 19,
   "metadata": {},
   "outputs": [
    {
     "name": "stdout",
     "output_type": "stream",
     "text": [
      "Mire Arriba una bola de luz se acerca\n"
     ]
    }
   ],
   "source": [
    "velocidad_del_cometa = 50\n",
    "tamano_del_cometa = 20\n",
    "if velocidad_del_cometa > 50 and tamano_del_cometa > 20:\n",
    "    print(\"Alerta Un cometa colisionara en la Tierra\")\n",
    "elif velocidad_del_cometa >= 20:\n",
    "    print(\"Mire Arriba una bola de luz se acerca\")\n",
    "elif tamano_del_cometa < 50:\n",
    "    print(\"No hay nada en el cielo\")\n",
    "else:\n",
    "    print(\"No hay nada en el cielo\")"
   ]
  }
 ],
 "metadata": {
  "interpreter": {
   "hash": "8e8ba638f9b1d83f5a936e0f27e0014e23ae92437d97ae9735b16852ae3c810a"
  },
  "kernelspec": {
   "display_name": "Python 3.10.2 64-bit",
   "language": "python",
   "name": "python3"
  },
  "language_info": {
   "codemirror_mode": {
    "name": "ipython",
    "version": 3
   },
   "file_extension": ".py",
   "mimetype": "text/x-python",
   "name": "python",
   "nbconvert_exporter": "python",
   "pygments_lexer": "ipython3",
   "version": "3.10.2"
  },
  "orig_nbformat": 4
 },
 "nbformat": 4,
 "nbformat_minor": 2
}
